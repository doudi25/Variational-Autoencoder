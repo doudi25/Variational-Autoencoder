{
 "cells": [
  {
   "cell_type": "code",
   "id": "initial_id",
   "metadata": {
    "collapsed": true,
    "ExecuteTime": {
     "end_time": "2024-08-21T17:40:08.176008Z",
     "start_time": "2024-08-21T17:40:08.168881Z"
    }
   },
   "source": [
    "import torch\n",
    "import torch.nn as nn\n",
    "import torch.nn.functional as F\n",
    "from torch.distributions import Normal, kl_divergence\n",
    "import torch\n",
    "import torchvision\n",
    "import torchvision.transforms as transforms\n",
    "from tqdm import tqdm\n",
    "from datasets import load_dataset\n",
    "import torch.utils.data as data\n",
    "\n"
   ],
   "outputs": [],
   "execution_count": 142
  },
  {
   "metadata": {
    "ExecuteTime": {
     "end_time": "2024-08-21T17:42:57.265610Z",
     "start_time": "2024-08-21T17:42:57.257076Z"
    }
   },
   "cell_type": "code",
   "source": [
    "device = torch.device('cuda' if torch.cuda.is_available() else 'cpu')\n",
    "class VAE(nn.Module):\n",
    "    def __init__(self,in_channels:int,latent_dim:int,hidden_dims: list=None,**kwargs)-> None :\n",
    "        super().__init__()\n",
    "        self.latent_dim = latent_dim\n",
    "        modules = []\n",
    "        if hidden_dims is None:\n",
    "            hidden_dims = [32,64,128,256,512]\n",
    "        for h_dim in hidden_dims:\n",
    "            modules.append(\n",
    "                nn.Sequential(nn.Conv2d(in_channels,out_channels = h_dim,kernel_size=3,stride=2,padding=1),\n",
    "                nn.BatchNorm2d(h_dim),\n",
    "                nn.LeakyReLU()))\n",
    "            in_channels = h_dim\n",
    "        self.encoder = nn.Sequential(*modules)\n",
    "        self.fc_mu = nn.Linear(hidden_dims[-1]*4,latent_dim)\n",
    "        self.fc_var = nn.Linear(hidden_dims[-1]*4,latent_dim)\n",
    "        modules = []\n",
    "        self.decode_input = nn.Linear(latent_dim,hidden_dims[-1]*4)\n",
    "        hidden_dims.reverse()\n",
    "        for i in range(len(hidden_dims)-1):\n",
    "            modules.append(\n",
    "                nn.Sequential(nn.ConvTranspose2d(hidden_dims[i],hidden_dims[i+1],kernel_size=3,stride=2,padding=1,output_padding=1),\n",
    "                nn.BatchNorm2d(hidden_dims[i+1]),\n",
    "                nn.LeakyReLU()))\n",
    "        self.decoder = nn.Sequential(*modules)\n",
    "        self.final_layer = nn.Sequential(nn.ConvTranspose2d(hidden_dims[-1],hidden_dims[-1],kernel_size=3,stride=2,padding=1,output_padding=1),\n",
    "         nn.BatchNorm2d(hidden_dims[-1]),\n",
    "         nn.LeakyReLU(),\n",
    "         nn.Conv2d(hidden_dims[-1],out_channels=3,kernel_size=3,padding=1),\n",
    "         nn.Sigmoid())\n",
    "        self.kld_weight = nn.Parameter(torch.ones(1))\n",
    "    def encode(self,x: torch.Tensor)-> list[torch.Tensor]:\n",
    "        x = self.encoder(x)\n",
    "        x = torch.flatten(x,start_dim=1)\n",
    "        mu = self.fc_mu(x)\n",
    "        log_var = self.fc_var(x)\n",
    "        return [ mu , log_var ]\n",
    "    def decode(self,z:torch.Tensor)-> torch.Tensor:\n",
    "        x = self.decode_input(z)\n",
    "        x = x.view(-1,512,2,2)\n",
    "        x = self.decoder(x)\n",
    "        out = self.final_layer(x)\n",
    "        return out\n",
    "    def reparam_trick(self,mu:torch.Tensor,log_var:torch.Tensor)-> torch.Tensor:\n",
    "        std = torch.exp(0.5*log_var)\n",
    "        eps = torch.randn_like(std)\n",
    "        return eps * std + mu\n",
    "    def forward(self,input:torch.Tensor)->list[torch.Tensor]:\n",
    "        mu , log_var = self.encode(input)\n",
    "        z = self.reparam_trick(mu,log_var)\n",
    "        return [self.decode(z),mu,log_var]\n",
    "    def sample(self,num_samples:int)-> torch.Tensor:\n",
    "        z = torch.randn(num_samples,self.latent_dim)\n",
    "        z = z.to(device)\n",
    "        samples = self.decode(z)\n",
    "        return samples\n",
    "    def generate(self,x :torch.Tensor)-> torch.Tensor:\n",
    "        return self(x)[0]"
   ],
   "id": "fab34ea1f3cc0239",
   "outputs": [],
   "execution_count": 146
  },
  {
   "metadata": {
    "ExecuteTime": {
     "end_time": "2024-08-21T17:42:59.822433Z",
     "start_time": "2024-08-21T17:42:59.813193Z"
    }
   },
   "cell_type": "code",
   "source": [
    "def training_loop(epochs):\n",
    "    model = VAE(in_channels=3,latent_dim=72)\n",
    "    model = model.to(device)\n",
    "    optimizer = torch.optim.AdamW(model.parameters(),lr=1e-3)\n",
    "    for p in model.parameters():\n",
    "        if p.dim() > 1:\n",
    "            nn.init.xavier_uniform_(p)\n",
    "    model.train()\n",
    "    for step in range(epochs+1):\n",
    "        batch_iterator = tqdm(train_loader,desc=f'Processing epoch{step:02d}')\n",
    "        for x,_ in batch_iterator:\n",
    "            x = x.to(device)\n",
    "            optimizer.zero_grad()\n",
    "            out , mu , log_var = model(x)\n",
    "            loss1 = F.mse_loss(out,x)\n",
    "            loss2 = torch.mean(-0.5 * torch.sum(1+ log_var - mu**2 -log_var.exp(),dim=1),dim=0)\n",
    "            loss = loss1 + model.kld_weight*loss2\n",
    "            loss.backward()\n",
    "            optimizer.step()\n",
    "        if step % 2 == 0:\n",
    "            val_loss = evaluation(model,val_loader)\n",
    "            print(f'Epoch {step} Loss {loss.item()} val_loss {val_loss}')\n",
    "    torch.save(model.state_dict(),'VAE.pth')\n",
    "    return model "
   ],
   "id": "37c79d689de40891",
   "outputs": [],
   "execution_count": 147
  },
  {
   "metadata": {
    "ExecuteTime": {
     "end_time": "2024-08-21T17:40:44.875379Z",
     "start_time": "2024-08-21T17:40:12.995462Z"
    }
   },
   "cell_type": "code",
   "source": [
    "def managing_data(data_name:str):\n",
    "    ds = load_dataset(data_name)\n",
    "    train_imgs ,train_labels = ds['train']['image'],ds['train']['label']\n",
    "    val_imgs , val_labels = ds['valid']['image'],ds['valid']['label']\n",
    "    return train_imgs,train_labels,val_imgs,val_labels\n",
    "train_imgs,train_labels,val_imgs,val_labels = managing_data(\"zh-plus/tiny-imagenet\")\n",
    "def data_cleaning(images, labels):\n",
    "    m = len(images)\n",
    "    list_index = []\n",
    "    transform = transforms.ToTensor()\n",
    "    for i in range(m):\n",
    "        images[i] = transform(images[i])\n",
    "        if images[i].size()[0] == 1:\n",
    "            list_index.append(i)\n",
    "    s = 0\n",
    "    for j in range(len(list_index)):\n",
    "        images.pop(list_index[j] - s)\n",
    "        labels.pop(list_index[j] - s)\n",
    "        s += 1\n",
    "    labels = torch.tensor(labels)\n",
    "    return images, labels\n",
    "train_imgs,train_labels = data_cleaning(train_imgs,train_labels)\n",
    "val_imgs, val_labels = data_cleaning(val_imgs,val_labels)\n",
    "train_dataset = data.TensorDataset(torch.stack(train_imgs), train_labels)\n",
    "\n",
    "\n",
    "# Create the DataLoader\n",
    "train_loader = data.DataLoader(train_dataset, batch_size=120, shuffle=True)\n",
    "val_dataset = data.TensorDataset(torch.stack(val_imgs),val_labels)\n",
    "val_loader = data.DataLoader(val_dataset,batch_size=50,shuffle=True)"
   ],
   "id": "c7118fcabc35e205",
   "outputs": [],
   "execution_count": 143
  },
  {
   "metadata": {
    "ExecuteTime": {
     "end_time": "2024-08-21T17:17:58.749154Z",
     "start_time": "2024-08-21T17:17:58.741631Z"
    }
   },
   "cell_type": "code",
   "source": [
    "def evaluation(model, test_loader):\n",
    "    model.to(device)\n",
    "    model.eval()  \n",
    "    total_loss = 0.0\n",
    "\n",
    "    loss_fn = nn.MSELoss()\n",
    "    \n",
    "    with torch.no_grad():  \n",
    "        for x, _ in test_loader:\n",
    "            x = x.to(device).float()  \n",
    "            out, _, _ = model(x)\n",
    "            loss = loss_fn(out, x)  \n",
    "            total_loss += loss.item()  \n",
    "\n",
    "    avg_loss = total_loss / len(test_loader)  \n",
    "    return avg_loss\n"
   ],
   "id": "14864f058c5078f9",
   "outputs": [],
   "execution_count": 126
  }
 ],
 "metadata": {
  "kernelspec": {
   "display_name": "Python 3",
   "language": "python",
   "name": "python3"
  },
  "language_info": {
   "codemirror_mode": {
    "name": "ipython",
    "version": 2
   },
   "file_extension": ".py",
   "mimetype": "text/x-python",
   "name": "python",
   "nbconvert_exporter": "python",
   "pygments_lexer": "ipython2",
   "version": "2.7.6"
  }
 },
 "nbformat": 4,
 "nbformat_minor": 5
}
